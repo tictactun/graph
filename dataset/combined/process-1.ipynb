{
 "cells": [
  {
   "cell_type": "code",
   "execution_count": 2,
   "metadata": {
    "collapsed": true
   },
   "outputs": [],
   "source": [
    "import pandas as pd\n",
    "import numpy as np"
   ]
  },
  {
   "cell_type": "code",
   "execution_count": 45,
   "metadata": {
    "collapsed": false
   },
   "outputs": [],
   "source": [
    "df1 = pd.read_csv('new/1200_Slopes_CSF_IDs.csv')\n",
    "df1 = df1.drop(['UID_csf_tb', 'Reggie_ID'], 1)\n",
    "df1 = df1.dropna()\n",
    "df1 = df1.drop_duplicates()"
   ]
  },
  {
   "cell_type": "code",
   "execution_count": 12,
   "metadata": {
    "collapsed": true
   },
   "outputs": [],
   "source": [
    "df2 = pd.read_csv('new/PRS_Overall_WO_APOE.csv')\n",
    "df2 = df2.drop(['apoe4cnt'], 1)\n",
    "df2 = df2.dropna()\n",
    "df2 = df2.drop_duplicates()"
   ]
  },
  {
   "cell_type": "code",
   "execution_count": 13,
   "metadata": {
    "collapsed": true
   },
   "outputs": [],
   "source": [
    "df3 = pd.read_csv('new/GeneticData_WRAP.csv')"
   ]
  },
  {
   "cell_type": "code",
   "execution_count": 14,
   "metadata": {
    "collapsed": true
   },
   "outputs": [],
   "source": [
    "idf = pd.read_csv('new/DBIDWRAPMatchforTuan.csv')\n",
    "idf = idf[['WrapNo', 'DBID']]"
   ]
  },
  {
   "cell_type": "markdown",
   "metadata": {},
   "source": [
    "### Merge raw"
   ]
  },
  {
   "cell_type": "code",
   "execution_count": 15,
   "metadata": {
    "collapsed": false
   },
   "outputs": [],
   "source": [
    "df = idf.merge(df3, on='DBID', how='inner')\n",
    "df = df.merge(df2, on='DBID',how='inner')\n",
    "df = df.merge(df1, on='WrapNo', how='inner')"
   ]
  },
  {
   "cell_type": "code",
   "execution_count": 21,
   "metadata": {
    "collapsed": false
   },
   "outputs": [],
   "source": [
    "newid = [int(x[:4]) for x in df['UID_slopes_tb']]"
   ]
  },
  {
   "cell_type": "code",
   "execution_count": 32,
   "metadata": {
    "collapsed": true
   },
   "outputs": [],
   "source": [
    "df['UID_slopes_tb'] = newid"
   ]
  },
  {
   "cell_type": "code",
   "execution_count": 35,
   "metadata": {
    "collapsed": false
   },
   "outputs": [],
   "source": [
    "df4 = pd.read_csv('roi.csv')"
   ]
  },
  {
   "cell_type": "code",
   "execution_count": 41,
   "metadata": {
    "collapsed": true
   },
   "outputs": [],
   "source": [
    "df5 = df4.merge(df, left_on='1', right_on='UID_slopes_tb', how='inner')"
   ]
  },
  {
   "cell_type": "code",
   "execution_count": 42,
   "metadata": {
    "collapsed": false
   },
   "outputs": [
    {
     "data": {
      "text/html": [
       "<div>\n",
       "<table border=\"1\" class=\"dataframe\">\n",
       "  <thead>\n",
       "    <tr style=\"text-align: right;\">\n",
       "      <th></th>\n",
       "      <th>1</th>\n",
       "      <th>2</th>\n",
       "      <th>3</th>\n",
       "      <th>4</th>\n",
       "      <th>5</th>\n",
       "      <th>6</th>\n",
       "      <th>7</th>\n",
       "      <th>8</th>\n",
       "      <th>9</th>\n",
       "      <th>10</th>\n",
       "      <th>...</th>\n",
       "      <th>TrailMakingTestTrailsBErrors_int</th>\n",
       "      <th>TrailMakingTestTrailsBErrors_slope</th>\n",
       "      <th>TrailMakingTestTrailsBTime_int</th>\n",
       "      <th>TrailMakingTestTrailsBTime_slope</th>\n",
       "      <th>age_at_sample</th>\n",
       "      <th>NFL</th>\n",
       "      <th>Ab_142</th>\n",
       "      <th>hTau</th>\n",
       "      <th>Ptau</th>\n",
       "      <th>Neurogranin</th>\n",
       "    </tr>\n",
       "  </thead>\n",
       "  <tbody>\n",
       "    <tr>\n",
       "      <th>0</th>\n",
       "      <td>1232</td>\n",
       "      <td>0.22597</td>\n",
       "      <td>0.002910</td>\n",
       "      <td>-0.22687</td>\n",
       "      <td>0.001049</td>\n",
       "      <td>1.24830</td>\n",
       "      <td>-0.001707</td>\n",
       "      <td>-1.96720</td>\n",
       "      <td>-0.001812</td>\n",
       "      <td>-1.9301</td>\n",
       "      <td>...</td>\n",
       "      <td>-0.323288</td>\n",
       "      <td>0.022254</td>\n",
       "      <td>29.518703</td>\n",
       "      <td>0.856335</td>\n",
       "      <td>68.08</td>\n",
       "      <td>1881.0</td>\n",
       "      <td>785.33</td>\n",
       "      <td>357.47</td>\n",
       "      <td>71.218</td>\n",
       "      <td>893.0</td>\n",
       "    </tr>\n",
       "    <tr>\n",
       "      <th>1</th>\n",
       "      <td>1272</td>\n",
       "      <td>-0.47353</td>\n",
       "      <td>-0.000230</td>\n",
       "      <td>0.91033</td>\n",
       "      <td>0.004236</td>\n",
       "      <td>-0.36784</td>\n",
       "      <td>0.000630</td>\n",
       "      <td>0.67177</td>\n",
       "      <td>-0.002615</td>\n",
       "      <td>1.1112</td>\n",
       "      <td>...</td>\n",
       "      <td>-0.323288</td>\n",
       "      <td>0.006879</td>\n",
       "      <td>29.518703</td>\n",
       "      <td>0.356317</td>\n",
       "      <td>71.52</td>\n",
       "      <td>729.0</td>\n",
       "      <td>660.46</td>\n",
       "      <td>176.41</td>\n",
       "      <td>32.398</td>\n",
       "      <td>125.0</td>\n",
       "    </tr>\n",
       "    <tr>\n",
       "      <th>2</th>\n",
       "      <td>1278</td>\n",
       "      <td>-1.74980</td>\n",
       "      <td>-0.002121</td>\n",
       "      <td>-3.57430</td>\n",
       "      <td>-0.005843</td>\n",
       "      <td>-1.64230</td>\n",
       "      <td>0.002816</td>\n",
       "      <td>-1.48720</td>\n",
       "      <td>-0.004809</td>\n",
       "      <td>-1.8892</td>\n",
       "      <td>...</td>\n",
       "      <td>-0.323288</td>\n",
       "      <td>0.006343</td>\n",
       "      <td>29.518703</td>\n",
       "      <td>0.387026</td>\n",
       "      <td>57.50</td>\n",
       "      <td>760.0</td>\n",
       "      <td>602.03</td>\n",
       "      <td>346.18</td>\n",
       "      <td>53.077</td>\n",
       "      <td>362.0</td>\n",
       "    </tr>\n",
       "  </tbody>\n",
       "</table>\n",
       "<p>3 rows × 123 columns</p>\n",
       "</div>"
      ],
      "text/plain": [
       "      1        2         3        4         5        6         7        8  \\\n",
       "0  1232  0.22597  0.002910 -0.22687  0.001049  1.24830 -0.001707 -1.96720   \n",
       "1  1272 -0.47353 -0.000230  0.91033  0.004236 -0.36784  0.000630  0.67177   \n",
       "2  1278 -1.74980 -0.002121 -3.57430 -0.005843 -1.64230  0.002816 -1.48720   \n",
       "\n",
       "          9      10     ...       TrailMakingTestTrailsBErrors_int  \\\n",
       "0 -0.001812 -1.9301     ...                              -0.323288   \n",
       "1 -0.002615  1.1112     ...                              -0.323288   \n",
       "2 -0.004809 -1.8892     ...                              -0.323288   \n",
       "\n",
       "   TrailMakingTestTrailsBErrors_slope  TrailMakingTestTrailsBTime_int  \\\n",
       "0                            0.022254                       29.518703   \n",
       "1                            0.006879                       29.518703   \n",
       "2                            0.006343                       29.518703   \n",
       "\n",
       "   TrailMakingTestTrailsBTime_slope  age_at_sample     NFL  Ab_142    hTau  \\\n",
       "0                          0.856335          68.08  1881.0  785.33  357.47   \n",
       "1                          0.356317          71.52   729.0  660.46  176.41   \n",
       "2                          0.387026          57.50   760.0  602.03  346.18   \n",
       "\n",
       "     Ptau  Neurogranin  \n",
       "0  71.218        893.0  \n",
       "1  32.398        125.0  \n",
       "2  53.077        362.0  \n",
       "\n",
       "[3 rows x 123 columns]"
      ]
     },
     "execution_count": 42,
     "metadata": {},
     "output_type": "execute_result"
    }
   ],
   "source": [
    "df5.head(3)"
   ]
  },
  {
   "cell_type": "code",
   "execution_count": 43,
   "metadata": {
    "collapsed": false
   },
   "outputs": [],
   "source": [
    "df6 = df5.drop(['WrapNo', 'DBID', 'UID_slopes_tb', '1'], axis=1)"
   ]
  },
  {
   "cell_type": "code",
   "execution_count": 44,
   "metadata": {
    "collapsed": true
   },
   "outputs": [],
   "source": [
    "df5.to_csv('data_roi1.csv', index=False)"
   ]
  },
  {
   "cell_type": "code",
   "execution_count": 57,
   "metadata": {
    "collapsed": false
   },
   "outputs": [
    {
     "data": {
      "text/plain": [
       "37"
      ]
     },
     "execution_count": 57,
     "metadata": {},
     "output_type": "execute_result"
    }
   ],
   "source": [
    "df.columns.get_loc('Overall_RiskScore_WO_APOE')"
   ]
  },
  {
   "cell_type": "markdown",
   "metadata": {
    "collapsed": true
   },
   "source": [
    "###  Merge combined"
   ]
  },
  {
   "cell_type": "code",
   "execution_count": 2,
   "metadata": {
    "collapsed": true
   },
   "outputs": [],
   "source": [
    "df1 = pd.read_csv('data_combined3.csv')"
   ]
  },
  {
   "cell_type": "code",
   "execution_count": 3,
   "metadata": {
    "collapsed": false
   },
   "outputs": [
    {
     "data": {
      "text/html": [
       "<div>\n",
       "<table border=\"1\" class=\"dataframe\">\n",
       "  <thead>\n",
       "    <tr style=\"text-align: right;\">\n",
       "      <th></th>\n",
       "      <th>UID_slopes_tb</th>\n",
       "      <th>BostonNamingTestEstimatedTotalScoreoutof60_slope</th>\n",
       "      <th>CategoryFluencyAnimalsRawScore_slope</th>\n",
       "      <th>WAISRDigitSymbolTotalRaw_slope</th>\n",
       "      <th>WAISRDigitSymbolScaledScore_slope</th>\n",
       "      <th>WMSRLogicalMemoryIIStoryARawScore_slope</th>\n",
       "      <th>WMSRLogicalMemoryIStoryARawScore_slope</th>\n",
       "      <th>MMSETotalScore_slope</th>\n",
       "      <th>LetterFluencyCFLTotalRawScore_slope</th>\n",
       "      <th>ReyAuditoryVerbalLearningTestRAVLTTrialTrials15Raw_slope</th>\n",
       "      <th>...</th>\n",
       "      <th>TrailMakingTestTrailsAErrors_int</th>\n",
       "      <th>TrailMakingTestTrailsATime_int</th>\n",
       "      <th>TrailMakingTestTrailsBErrors_int</th>\n",
       "      <th>TrailMakingTestTrailsBTime_int</th>\n",
       "      <th>age_at_sample</th>\n",
       "      <th>NFL</th>\n",
       "      <th>Ab_142</th>\n",
       "      <th>hTau</th>\n",
       "      <th>Ptau</th>\n",
       "      <th>Neurogranin</th>\n",
       "    </tr>\n",
       "  </thead>\n",
       "  <tbody>\n",
       "    <tr>\n",
       "      <th>0</th>\n",
       "      <td>1232699</td>\n",
       "      <td>0.981819</td>\n",
       "      <td>0.530921</td>\n",
       "      <td>0.609310</td>\n",
       "      <td>0.666576</td>\n",
       "      <td>0.480657</td>\n",
       "      <td>0.414540</td>\n",
       "      <td>0.908010</td>\n",
       "      <td>0.370269</td>\n",
       "      <td>0.332102</td>\n",
       "      <td>...</td>\n",
       "      <td>0.983203</td>\n",
       "      <td>0.849507</td>\n",
       "      <td>0.636796</td>\n",
       "      <td>0.620662</td>\n",
       "      <td>0.808416</td>\n",
       "      <td>1881</td>\n",
       "      <td>785.33</td>\n",
       "      <td>357.47</td>\n",
       "      <td>71.218</td>\n",
       "      <td>893.0</td>\n",
       "    </tr>\n",
       "    <tr>\n",
       "      <th>1</th>\n",
       "      <td>1272720</td>\n",
       "      <td>0.955228</td>\n",
       "      <td>0.636860</td>\n",
       "      <td>0.609107</td>\n",
       "      <td>0.617831</td>\n",
       "      <td>0.454312</td>\n",
       "      <td>0.439437</td>\n",
       "      <td>0.948731</td>\n",
       "      <td>0.425702</td>\n",
       "      <td>0.318382</td>\n",
       "      <td>...</td>\n",
       "      <td>0.968599</td>\n",
       "      <td>0.693045</td>\n",
       "      <td>0.077559</td>\n",
       "      <td>0.854142</td>\n",
       "      <td>0.918075</td>\n",
       "      <td>729</td>\n",
       "      <td>660.46</td>\n",
       "      <td>176.41</td>\n",
       "      <td>32.398</td>\n",
       "      <td>125.0</td>\n",
       "    </tr>\n",
       "    <tr>\n",
       "      <th>2</th>\n",
       "      <td>1278436</td>\n",
       "      <td>0.943650</td>\n",
       "      <td>0.554652</td>\n",
       "      <td>0.668147</td>\n",
       "      <td>0.718180</td>\n",
       "      <td>0.437452</td>\n",
       "      <td>0.421131</td>\n",
       "      <td>0.999687</td>\n",
       "      <td>0.501671</td>\n",
       "      <td>0.641026</td>\n",
       "      <td>...</td>\n",
       "      <td>0.994982</td>\n",
       "      <td>0.708057</td>\n",
       "      <td>0.054993</td>\n",
       "      <td>0.840320</td>\n",
       "      <td>0.471151</td>\n",
       "      <td>760</td>\n",
       "      <td>602.03</td>\n",
       "      <td>346.18</td>\n",
       "      <td>53.077</td>\n",
       "      <td>362.0</td>\n",
       "    </tr>\n",
       "  </tbody>\n",
       "</table>\n",
       "<p>3 rows × 33 columns</p>\n",
       "</div>"
      ],
      "text/plain": [
       "  UID_slopes_tb  BostonNamingTestEstimatedTotalScoreoutof60_slope  \\\n",
       "0       1232699                                          0.981819   \n",
       "1       1272720                                          0.955228   \n",
       "2       1278436                                          0.943650   \n",
       "\n",
       "   CategoryFluencyAnimalsRawScore_slope  WAISRDigitSymbolTotalRaw_slope  \\\n",
       "0                              0.530921                        0.609310   \n",
       "1                              0.636860                        0.609107   \n",
       "2                              0.554652                        0.668147   \n",
       "\n",
       "   WAISRDigitSymbolScaledScore_slope  WMSRLogicalMemoryIIStoryARawScore_slope  \\\n",
       "0                           0.666576                                 0.480657   \n",
       "1                           0.617831                                 0.454312   \n",
       "2                           0.718180                                 0.437452   \n",
       "\n",
       "   WMSRLogicalMemoryIStoryARawScore_slope  MMSETotalScore_slope  \\\n",
       "0                                0.414540              0.908010   \n",
       "1                                0.439437              0.948731   \n",
       "2                                0.421131              0.999687   \n",
       "\n",
       "   LetterFluencyCFLTotalRawScore_slope  \\\n",
       "0                             0.370269   \n",
       "1                             0.425702   \n",
       "2                             0.501671   \n",
       "\n",
       "   ReyAuditoryVerbalLearningTestRAVLTTrialTrials15Raw_slope     ...       \\\n",
       "0                                           0.332102            ...        \n",
       "1                                           0.318382            ...        \n",
       "2                                           0.641026            ...        \n",
       "\n",
       "   TrailMakingTestTrailsAErrors_int  TrailMakingTestTrailsATime_int  \\\n",
       "0                          0.983203                        0.849507   \n",
       "1                          0.968599                        0.693045   \n",
       "2                          0.994982                        0.708057   \n",
       "\n",
       "   TrailMakingTestTrailsBErrors_int  TrailMakingTestTrailsBTime_int  \\\n",
       "0                          0.636796                        0.620662   \n",
       "1                          0.077559                        0.854142   \n",
       "2                          0.054993                        0.840320   \n",
       "\n",
       "   age_at_sample   NFL  Ab_142    hTau    Ptau  Neurogranin  \n",
       "0       0.808416  1881  785.33  357.47  71.218        893.0  \n",
       "1       0.918075   729  660.46  176.41  32.398        125.0  \n",
       "2       0.471151   760  602.03  346.18  53.077        362.0  \n",
       "\n",
       "[3 rows x 33 columns]"
      ]
     },
     "execution_count": 3,
     "metadata": {},
     "output_type": "execute_result"
    }
   ],
   "source": [
    "df1.head(3)"
   ]
  },
  {
   "cell_type": "code",
   "execution_count": 4,
   "metadata": {
    "collapsed": true
   },
   "outputs": [],
   "source": [
    "idf = pd.read_csv('new/DBIDWRAPMatchforTuan.csv')\n",
    "idf = idf[['UID_slopes_tb', 'WrapNo', 'DBID']]"
   ]
  },
  {
   "cell_type": "code",
   "execution_count": 8,
   "metadata": {
    "collapsed": false
   },
   "outputs": [],
   "source": [
    "df = idf.merge(df3, on='DBID', how='inner')\n",
    "df = df.merge(df2, on='DBID',how='inner')\n",
    "df = df.merge(df1, on='UID_slopes_tb', how='inner')"
   ]
  },
  {
   "cell_type": "code",
   "execution_count": 9,
   "metadata": {
    "collapsed": true
   },
   "outputs": [],
   "source": [
    "df = df.drop(['UID_slopes_tb', 'WrapNo', 'DBID'], axis=1)\n",
    "df.to_csv('data703.csv', index=False)"
   ]
  },
  {
   "cell_type": "code",
   "execution_count": 10,
   "metadata": {
    "collapsed": false
   },
   "outputs": [
    {
     "data": {
      "text/plain": [
       "(126, 70)"
      ]
     },
     "execution_count": 10,
     "metadata": {},
     "output_type": "execute_result"
    }
   ],
   "source": [
    "df.shape"
   ]
  },
  {
   "cell_type": "code",
   "execution_count": 11,
   "metadata": {
    "collapsed": false
   },
   "outputs": [
    {
     "data": {
      "text/plain": [
       "65"
      ]
     },
     "execution_count": 11,
     "metadata": {},
     "output_type": "execute_result"
    }
   ],
   "source": [
    "df.columns.get_loc('NFL')"
   ]
  },
  {
   "cell_type": "code",
   "execution_count": null,
   "metadata": {
    "collapsed": true
   },
   "outputs": [],
   "source": []
  }
 ],
 "metadata": {
  "kernelspec": {
   "display_name": "Python 2",
   "language": "python",
   "name": "python2"
  },
  "language_info": {
   "codemirror_mode": {
    "name": "ipython",
    "version": 2
   },
   "file_extension": ".py",
   "mimetype": "text/x-python",
   "name": "python",
   "nbconvert_exporter": "python",
   "pygments_lexer": "ipython2",
   "version": "2.7.12"
  }
 },
 "nbformat": 4,
 "nbformat_minor": 1
}
