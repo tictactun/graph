{
 "cells": [
  {
   "cell_type": "code",
   "execution_count": 23,
   "metadata": {
    "collapsed": true
   },
   "outputs": [],
   "source": [
    "import pandas as pd"
   ]
  },
  {
   "cell_type": "code",
   "execution_count": 24,
   "metadata": {
    "collapsed": true
   },
   "outputs": [],
   "source": [
    "df1 = pd.read_csv('slope/uid.csv')\n",
    "df1 = df1.dropna()\n",
    "df1 = df1.drop_duplicates()"
   ]
  },
  {
   "cell_type": "code",
   "execution_count": 25,
   "metadata": {
    "collapsed": true
   },
   "outputs": [],
   "source": [
    "df2 = pd.read_csv('roi.csv')"
   ]
  },
  {
   "cell_type": "code",
   "execution_count": 26,
   "metadata": {
    "collapsed": true
   },
   "outputs": [],
   "source": [
    "newid = [int(x[:4]) for x in df1['UID_slopes_tb']]"
   ]
  },
  {
   "cell_type": "code",
   "execution_count": 27,
   "metadata": {
    "collapsed": true
   },
   "outputs": [],
   "source": [
    "df1['UID_slopes_tb'] = newid"
   ]
  },
  {
   "cell_type": "code",
   "execution_count": 28,
   "metadata": {
    "collapsed": false
   },
   "outputs": [],
   "source": [
    "df = df2.merge(df1, left_on='1', right_on='UID_slopes_tb', how='inner')"
   ]
  },
  {
   "cell_type": "code",
   "execution_count": 29,
   "metadata": {
    "collapsed": true
   },
   "outputs": [],
   "source": [
    "df3 = df.drop(['UID_slopes_tb', '1'], axis=1)"
   ]
  },
  {
   "cell_type": "code",
   "execution_count": 30,
   "metadata": {
    "collapsed": false
   },
   "outputs": [],
   "source": [
    "df3.to_csv('data_roi2.csv', index=False)"
   ]
  },
  {
   "cell_type": "code",
   "execution_count": 31,
   "metadata": {
    "collapsed": false
   },
   "outputs": [
    {
     "data": {
      "text/plain": [
       "(59, 159)"
      ]
     },
     "execution_count": 31,
     "metadata": {},
     "output_type": "execute_result"
    }
   ],
   "source": [
    "df3.shape"
   ]
  },
  {
   "cell_type": "code",
   "execution_count": 32,
   "metadata": {
    "collapsed": false
   },
   "outputs": [
    {
     "data": {
      "text/html": [
       "<div>\n",
       "<table border=\"1\" class=\"dataframe\">\n",
       "  <thead>\n",
       "    <tr style=\"text-align: right;\">\n",
       "      <th></th>\n",
       "      <th>2</th>\n",
       "      <th>3</th>\n",
       "      <th>4</th>\n",
       "      <th>5</th>\n",
       "      <th>6</th>\n",
       "      <th>7</th>\n",
       "      <th>8</th>\n",
       "      <th>9</th>\n",
       "      <th>10</th>\n",
       "      <th>11</th>\n",
       "      <th>...</th>\n",
       "      <th>151</th>\n",
       "      <th>152</th>\n",
       "      <th>153</th>\n",
       "      <th>154</th>\n",
       "      <th>155</th>\n",
       "      <th>NFL</th>\n",
       "      <th>Ab_142</th>\n",
       "      <th>hTau</th>\n",
       "      <th>Ptau</th>\n",
       "      <th>Neurogranin</th>\n",
       "    </tr>\n",
       "  </thead>\n",
       "  <tbody>\n",
       "    <tr>\n",
       "      <th>0</th>\n",
       "      <td>0.22597</td>\n",
       "      <td>0.002910</td>\n",
       "      <td>-0.002499</td>\n",
       "      <td>0.000109</td>\n",
       "      <td>-0.004744</td>\n",
       "      <td>-0.001337</td>\n",
       "      <td>0.000563</td>\n",
       "      <td>-0.22687</td>\n",
       "      <td>0.001049</td>\n",
       "      <td>0.002374</td>\n",
       "      <td>...</td>\n",
       "      <td>-0.004467</td>\n",
       "      <td>-0.000503</td>\n",
       "      <td>0.000697</td>\n",
       "      <td>0.000568</td>\n",
       "      <td>-0.000735</td>\n",
       "      <td>1881</td>\n",
       "      <td>785.33</td>\n",
       "      <td>357.47</td>\n",
       "      <td>71.218</td>\n",
       "      <td>893.0</td>\n",
       "    </tr>\n",
       "    <tr>\n",
       "      <th>1</th>\n",
       "      <td>-0.47353</td>\n",
       "      <td>-0.000230</td>\n",
       "      <td>0.002293</td>\n",
       "      <td>-0.005213</td>\n",
       "      <td>-0.001607</td>\n",
       "      <td>0.001950</td>\n",
       "      <td>-0.006340</td>\n",
       "      <td>0.91033</td>\n",
       "      <td>0.004236</td>\n",
       "      <td>0.004082</td>\n",
       "      <td>...</td>\n",
       "      <td>-0.001232</td>\n",
       "      <td>0.002993</td>\n",
       "      <td>0.000454</td>\n",
       "      <td>-0.000647</td>\n",
       "      <td>-0.006331</td>\n",
       "      <td>729</td>\n",
       "      <td>660.46</td>\n",
       "      <td>176.41</td>\n",
       "      <td>32.398</td>\n",
       "      <td>125.0</td>\n",
       "    </tr>\n",
       "    <tr>\n",
       "      <th>2</th>\n",
       "      <td>-1.74980</td>\n",
       "      <td>-0.002121</td>\n",
       "      <td>-0.002311</td>\n",
       "      <td>-0.006518</td>\n",
       "      <td>-0.003096</td>\n",
       "      <td>0.001988</td>\n",
       "      <td>-0.011096</td>\n",
       "      <td>-3.57430</td>\n",
       "      <td>-0.005843</td>\n",
       "      <td>0.001970</td>\n",
       "      <td>...</td>\n",
       "      <td>0.001083</td>\n",
       "      <td>-0.001482</td>\n",
       "      <td>0.004377</td>\n",
       "      <td>0.000786</td>\n",
       "      <td>0.000300</td>\n",
       "      <td>760</td>\n",
       "      <td>602.03</td>\n",
       "      <td>346.18</td>\n",
       "      <td>53.077</td>\n",
       "      <td>362.0</td>\n",
       "    </tr>\n",
       "  </tbody>\n",
       "</table>\n",
       "<p>3 rows × 159 columns</p>\n",
       "</div>"
      ],
      "text/plain": [
       "         2         3         4         5         6         7         8  \\\n",
       "0  0.22597  0.002910 -0.002499  0.000109 -0.004744 -0.001337  0.000563   \n",
       "1 -0.47353 -0.000230  0.002293 -0.005213 -0.001607  0.001950 -0.006340   \n",
       "2 -1.74980 -0.002121 -0.002311 -0.006518 -0.003096  0.001988 -0.011096   \n",
       "\n",
       "         9        10        11     ...            151       152       153  \\\n",
       "0 -0.22687  0.001049  0.002374     ...      -0.004467 -0.000503  0.000697   \n",
       "1  0.91033  0.004236  0.004082     ...      -0.001232  0.002993  0.000454   \n",
       "2 -3.57430 -0.005843  0.001970     ...       0.001083 -0.001482  0.004377   \n",
       "\n",
       "        154       155   NFL  Ab_142    hTau    Ptau  Neurogranin  \n",
       "0  0.000568 -0.000735  1881  785.33  357.47  71.218        893.0  \n",
       "1 -0.000647 -0.006331   729  660.46  176.41  32.398        125.0  \n",
       "2  0.000786  0.000300   760  602.03  346.18  53.077        362.0  \n",
       "\n",
       "[3 rows x 159 columns]"
      ]
     },
     "execution_count": 32,
     "metadata": {},
     "output_type": "execute_result"
    }
   ],
   "source": [
    "df3.head(3)"
   ]
  }
 ],
 "metadata": {
  "kernelspec": {
   "display_name": "Python 2",
   "language": "python",
   "name": "python2"
  },
  "language_info": {
   "codemirror_mode": {
    "name": "ipython",
    "version": 2
   },
   "file_extension": ".py",
   "mimetype": "text/x-python",
   "name": "python",
   "nbconvert_exporter": "python",
   "pygments_lexer": "ipython2",
   "version": "2.7.12"
  }
 },
 "nbformat": 4,
 "nbformat_minor": 1
}
