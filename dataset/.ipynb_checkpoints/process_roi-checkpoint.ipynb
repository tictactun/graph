{
 "cells": [
  {
   "cell_type": "code",
   "execution_count": 13,
   "metadata": {
    "collapsed": true
   },
   "outputs": [],
   "source": [
    "import pandas as pd"
   ]
  },
  {
   "cell_type": "code",
   "execution_count": 14,
   "metadata": {
    "collapsed": true
   },
   "outputs": [],
   "source": [
    "df1 = pd.read_csv('slope/uid.csv')\n",
    "df1 = df1.dropna()\n",
    "df1 = df1.drop_duplicates()"
   ]
  },
  {
   "cell_type": "code",
   "execution_count": 15,
   "metadata": {
    "collapsed": true
   },
   "outputs": [],
   "source": [
    "df2 = pd.read_csv('roi.csv')"
   ]
  },
  {
   "cell_type": "code",
   "execution_count": 16,
   "metadata": {
    "collapsed": true
   },
   "outputs": [],
   "source": [
    "newid = [int(x[:4]) for x in df1['UID_slopes_tb']]"
   ]
  },
  {
   "cell_type": "code",
   "execution_count": 17,
   "metadata": {
    "collapsed": true
   },
   "outputs": [],
   "source": [
    "df1['UID_slopes_tb'] = newid"
   ]
  },
  {
   "cell_type": "code",
   "execution_count": 18,
   "metadata": {
    "collapsed": false
   },
   "outputs": [],
   "source": [
    "df = df2.merge(df1, left_on='1', right_on='UID_slopes_tb', how='inner')"
   ]
  },
  {
   "cell_type": "code",
   "execution_count": 19,
   "metadata": {
    "collapsed": true
   },
   "outputs": [],
   "source": [
    "df3 = df.drop(['UID_slopes_tb', '1'], axis=1)"
   ]
  },
  {
   "cell_type": "code",
   "execution_count": 20,
   "metadata": {
    "collapsed": false
   },
   "outputs": [],
   "source": [
    "df3.to_csv('data_roi2.csv', index=False)"
   ]
  },
  {
   "cell_type": "code",
   "execution_count": 21,
   "metadata": {
    "collapsed": false
   },
   "outputs": [
    {
     "data": {
      "text/plain": [
       "(59, 159)"
      ]
     },
     "execution_count": 21,
     "metadata": {},
     "output_type": "execute_result"
    }
   ],
   "source": [
    "df3.shape"
   ]
  },
  {
   "cell_type": "code",
   "execution_count": 22,
   "metadata": {
    "collapsed": false
   },
   "outputs": [
    {
     "data": {
      "text/html": [
       "<div>\n",
       "<table border=\"1\" class=\"dataframe\">\n",
       "  <thead>\n",
       "    <tr style=\"text-align: right;\">\n",
       "      <th></th>\n",
       "      <th>2</th>\n",
       "      <th>3</th>\n",
       "      <th>4</th>\n",
       "      <th>5</th>\n",
       "      <th>6</th>\n",
       "      <th>7</th>\n",
       "      <th>8</th>\n",
       "      <th>9</th>\n",
       "      <th>10</th>\n",
       "      <th>11</th>\n",
       "      <th>...</th>\n",
       "      <th>0.100</th>\n",
       "      <th>0.101</th>\n",
       "      <th>0.102</th>\n",
       "      <th>0.103</th>\n",
       "      <th>0.104</th>\n",
       "      <th>NFL</th>\n",
       "      <th>Ab_142</th>\n",
       "      <th>hTau</th>\n",
       "      <th>Ptau</th>\n",
       "      <th>Neurogranin</th>\n",
       "    </tr>\n",
       "  </thead>\n",
       "  <tbody>\n",
       "    <tr>\n",
       "      <th>0</th>\n",
       "      <td>0.22597</td>\n",
       "      <td>0.002910</td>\n",
       "      <td>-0.22687</td>\n",
       "      <td>0.001049</td>\n",
       "      <td>1.24830</td>\n",
       "      <td>-0.001707</td>\n",
       "      <td>-1.96720</td>\n",
       "      <td>-0.001812</td>\n",
       "      <td>-1.9301</td>\n",
       "      <td>-0.000053</td>\n",
       "      <td>...</td>\n",
       "      <td>0</td>\n",
       "      <td>0</td>\n",
       "      <td>0</td>\n",
       "      <td>0</td>\n",
       "      <td>0</td>\n",
       "      <td>1881</td>\n",
       "      <td>785.33</td>\n",
       "      <td>357.47</td>\n",
       "      <td>71.218</td>\n",
       "      <td>893.0</td>\n",
       "    </tr>\n",
       "    <tr>\n",
       "      <th>1</th>\n",
       "      <td>-0.47353</td>\n",
       "      <td>-0.000230</td>\n",
       "      <td>0.91033</td>\n",
       "      <td>0.004236</td>\n",
       "      <td>-0.36784</td>\n",
       "      <td>0.000630</td>\n",
       "      <td>0.67177</td>\n",
       "      <td>-0.002615</td>\n",
       "      <td>1.1112</td>\n",
       "      <td>0.002563</td>\n",
       "      <td>...</td>\n",
       "      <td>0</td>\n",
       "      <td>0</td>\n",
       "      <td>0</td>\n",
       "      <td>0</td>\n",
       "      <td>0</td>\n",
       "      <td>729</td>\n",
       "      <td>660.46</td>\n",
       "      <td>176.41</td>\n",
       "      <td>32.398</td>\n",
       "      <td>125.0</td>\n",
       "    </tr>\n",
       "    <tr>\n",
       "      <th>2</th>\n",
       "      <td>-1.74980</td>\n",
       "      <td>-0.002121</td>\n",
       "      <td>-3.57430</td>\n",
       "      <td>-0.005843</td>\n",
       "      <td>-1.64230</td>\n",
       "      <td>0.002816</td>\n",
       "      <td>-1.48720</td>\n",
       "      <td>-0.004809</td>\n",
       "      <td>-1.8892</td>\n",
       "      <td>0.000447</td>\n",
       "      <td>...</td>\n",
       "      <td>0</td>\n",
       "      <td>0</td>\n",
       "      <td>0</td>\n",
       "      <td>0</td>\n",
       "      <td>0</td>\n",
       "      <td>760</td>\n",
       "      <td>602.03</td>\n",
       "      <td>346.18</td>\n",
       "      <td>53.077</td>\n",
       "      <td>362.0</td>\n",
       "    </tr>\n",
       "  </tbody>\n",
       "</table>\n",
       "<p>3 rows × 159 columns</p>\n",
       "</div>"
      ],
      "text/plain": [
       "         2         3        4         5        6         7        8         9  \\\n",
       "0  0.22597  0.002910 -0.22687  0.001049  1.24830 -0.001707 -1.96720 -0.001812   \n",
       "1 -0.47353 -0.000230  0.91033  0.004236 -0.36784  0.000630  0.67177 -0.002615   \n",
       "2 -1.74980 -0.002121 -3.57430 -0.005843 -1.64230  0.002816 -1.48720 -0.004809   \n",
       "\n",
       "       10        11     ...       0.100  0.101  0.102  0.103  0.104   NFL  \\\n",
       "0 -1.9301 -0.000053     ...           0      0      0      0      0  1881   \n",
       "1  1.1112  0.002563     ...           0      0      0      0      0   729   \n",
       "2 -1.8892  0.000447     ...           0      0      0      0      0   760   \n",
       "\n",
       "   Ab_142    hTau    Ptau  Neurogranin  \n",
       "0  785.33  357.47  71.218        893.0  \n",
       "1  660.46  176.41  32.398        125.0  \n",
       "2  602.03  346.18  53.077        362.0  \n",
       "\n",
       "[3 rows x 159 columns]"
      ]
     },
     "execution_count": 22,
     "metadata": {},
     "output_type": "execute_result"
    }
   ],
   "source": [
    "df3.head(3)"
   ]
  },
  {
   "cell_type": "code",
   "execution_count": null,
   "metadata": {
    "collapsed": true
   },
   "outputs": [],
   "source": []
  }
 ],
 "metadata": {
  "kernelspec": {
   "display_name": "Python 2",
   "language": "python",
   "name": "python2"
  },
  "language_info": {
   "codemirror_mode": {
    "name": "ipython",
    "version": 2
   },
   "file_extension": ".py",
   "mimetype": "text/x-python",
   "name": "python",
   "nbconvert_exporter": "python",
   "pygments_lexer": "ipython2",
   "version": "2.7.12"
  }
 },
 "nbformat": 4,
 "nbformat_minor": 1
}
