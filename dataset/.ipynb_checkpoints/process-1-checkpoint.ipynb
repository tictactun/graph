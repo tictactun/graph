{
 "cells": [
  {
   "cell_type": "code",
   "execution_count": 2,
   "metadata": {
    "collapsed": true
   },
   "outputs": [],
   "source": [
    "import pandas as pd\n",
    "import numpy as np"
   ]
  },
  {
   "cell_type": "code",
   "execution_count": 51,
   "metadata": {
    "collapsed": false
   },
   "outputs": [],
   "source": [
    "df1 = pd.read_csv('new/1200_Slopes_CSF_IDs.csv')\n",
    "df1 = df1.drop(['UID_slopes_tb', 'UID_csf_tb', 'Reggie_ID'], 1)\n",
    "df1 = df1.dropna()\n",
    "df1 = df1.drop_duplicates()"
   ]
  },
  {
   "cell_type": "code",
   "execution_count": 52,
   "metadata": {
    "collapsed": true
   },
   "outputs": [],
   "source": [
    "df2 = pd.read_csv('new/PRS_Overall_WO_APOE.csv')\n",
    "df2 = df2.drop(['apoe4cnt'], 1)\n",
    "df2 = df2.dropna()\n",
    "df2 = df2.drop_duplicates()"
   ]
  },
  {
   "cell_type": "code",
   "execution_count": 53,
   "metadata": {
    "collapsed": true
   },
   "outputs": [],
   "source": [
    "df3 = pd.read_csv('new/GeneticData_WRAP.csv')"
   ]
  },
  {
   "cell_type": "code",
   "execution_count": 54,
   "metadata": {
    "collapsed": true
   },
   "outputs": [],
   "source": [
    "idf = pd.read_csv('new/DBIDWRAPMatchforTuan.csv')\n",
    "idf = idf[['WrapNo', 'DBID']]"
   ]
  },
  {
   "cell_type": "markdown",
   "metadata": {},
   "source": [
    "### Merge raw"
   ]
  },
  {
   "cell_type": "code",
   "execution_count": 55,
   "metadata": {
    "collapsed": false
   },
   "outputs": [],
   "source": [
    "df = idf.merge(df3, on='DBID', how='inner')\n",
    "df = df.merge(df2, on='DBID',how='inner')\n",
    "df = df.merge(df1, on='WrapNo', how='inner')"
   ]
  },
  {
   "cell_type": "code",
   "execution_count": 56,
   "metadata": {
    "collapsed": false
   },
   "outputs": [],
   "source": [
    "df = df.drop(['WrapNo', 'DBID'], axis=1)\n",
    "df.to_csv('data70.csv', index=False)"
   ]
  },
  {
   "cell_type": "code",
   "execution_count": 57,
   "metadata": {
    "collapsed": false
   },
   "outputs": [
    {
     "data": {
      "text/plain": [
       "37"
      ]
     },
     "execution_count": 57,
     "metadata": {},
     "output_type": "execute_result"
    }
   ],
   "source": [
    "df.columns.get_loc('Overall_RiskScore_WO_APOE')"
   ]
  },
  {
   "cell_type": "markdown",
   "metadata": {
    "collapsed": true
   },
   "source": [
    "###  Merge combined"
   ]
  },
  {
   "cell_type": "code",
   "execution_count": 58,
   "metadata": {
    "collapsed": true
   },
   "outputs": [],
   "source": [
    "df1 = pd.read_csv('data_combined2.csv')"
   ]
  },
  {
   "cell_type": "code",
   "execution_count": 59,
   "metadata": {
    "collapsed": false
   },
   "outputs": [
    {
     "data": {
      "text/html": [
       "<div>\n",
       "<table border=\"1\" class=\"dataframe\">\n",
       "  <thead>\n",
       "    <tr style=\"text-align: right;\">\n",
       "      <th></th>\n",
       "      <th>UID_slopes_tb</th>\n",
       "      <th>BostonNamingTestEstimatedTotalScoreoutof60_slope</th>\n",
       "      <th>CategoryFluencyAnimalsRawScore_slope</th>\n",
       "      <th>WAISRDigitSymbolTotalRaw_slope</th>\n",
       "      <th>WAISRDigitSymbolScaledScore_slope</th>\n",
       "      <th>WMSRLogicalMemoryIIStoryARawScore_slope</th>\n",
       "      <th>WMSRLogicalMemoryIStoryARawScore_slope</th>\n",
       "      <th>MMSETotalScore_slope</th>\n",
       "      <th>LetterFluencyCFLTotalRawScore_slope</th>\n",
       "      <th>ReyAuditoryVerbalLearningTestRAVLTTrialTrials15Raw_slope</th>\n",
       "      <th>...</th>\n",
       "      <th>TrailMakingTestTrailsAErrors_int</th>\n",
       "      <th>TrailMakingTestTrailsATime_int</th>\n",
       "      <th>TrailMakingTestTrailsBErrors_int</th>\n",
       "      <th>TrailMakingTestTrailsBTime_int</th>\n",
       "      <th>age_at_sample</th>\n",
       "      <th>NFL</th>\n",
       "      <th>Ab_142</th>\n",
       "      <th>hTau</th>\n",
       "      <th>Ptau</th>\n",
       "      <th>Neurogranin</th>\n",
       "    </tr>\n",
       "  </thead>\n",
       "  <tbody>\n",
       "    <tr>\n",
       "      <th>0</th>\n",
       "      <td>1232699</td>\n",
       "      <td>0.981819</td>\n",
       "      <td>28.166339</td>\n",
       "      <td>91.183149</td>\n",
       "      <td>10.180106</td>\n",
       "      <td>10.568806</td>\n",
       "      <td>12.797640</td>\n",
       "      <td>29.865618</td>\n",
       "      <td>32.892035</td>\n",
       "      <td>55.573569</td>\n",
       "      <td>...</td>\n",
       "      <td>0.095045</td>\n",
       "      <td>335.366738</td>\n",
       "      <td>0.044952</td>\n",
       "      <td>1142.465612</td>\n",
       "      <td>68.08</td>\n",
       "      <td>1881</td>\n",
       "      <td>785.33</td>\n",
       "      <td>357.47</td>\n",
       "      <td>71.218</td>\n",
       "      <td>893.0</td>\n",
       "    </tr>\n",
       "    <tr>\n",
       "      <th>1</th>\n",
       "      <td>1272720</td>\n",
       "      <td>0.955228</td>\n",
       "      <td>29.872564</td>\n",
       "      <td>91.175048</td>\n",
       "      <td>9.777167</td>\n",
       "      <td>10.188612</td>\n",
       "      <td>13.104316</td>\n",
       "      <td>29.875530</td>\n",
       "      <td>34.207019</td>\n",
       "      <td>55.332243</td>\n",
       "      <td>...</td>\n",
       "      <td>0.128785</td>\n",
       "      <td>400.439583</td>\n",
       "      <td>0.083460</td>\n",
       "      <td>979.708169</td>\n",
       "      <td>71.52</td>\n",
       "      <td>729</td>\n",
       "      <td>660.46</td>\n",
       "      <td>176.41</td>\n",
       "      <td>32.398</td>\n",
       "      <td>125.0</td>\n",
       "    </tr>\n",
       "    <tr>\n",
       "      <th>2</th>\n",
       "      <td>1278436</td>\n",
       "      <td>0.943650</td>\n",
       "      <td>28.548550</td>\n",
       "      <td>93.524138</td>\n",
       "      <td>10.606666</td>\n",
       "      <td>9.945288</td>\n",
       "      <td>12.878828</td>\n",
       "      <td>29.887933</td>\n",
       "      <td>36.009173</td>\n",
       "      <td>61.007569</td>\n",
       "      <td>...</td>\n",
       "      <td>0.067831</td>\n",
       "      <td>394.196219</td>\n",
       "      <td>0.085013</td>\n",
       "      <td>989.343454</td>\n",
       "      <td>57.50</td>\n",
       "      <td>760</td>\n",
       "      <td>602.03</td>\n",
       "      <td>346.18</td>\n",
       "      <td>53.077</td>\n",
       "      <td>362.0</td>\n",
       "    </tr>\n",
       "  </tbody>\n",
       "</table>\n",
       "<p>3 rows × 33 columns</p>\n",
       "</div>"
      ],
      "text/plain": [
       "  UID_slopes_tb  BostonNamingTestEstimatedTotalScoreoutof60_slope  \\\n",
       "0       1232699                                          0.981819   \n",
       "1       1272720                                          0.955228   \n",
       "2       1278436                                          0.943650   \n",
       "\n",
       "   CategoryFluencyAnimalsRawScore_slope  WAISRDigitSymbolTotalRaw_slope  \\\n",
       "0                             28.166339                       91.183149   \n",
       "1                             29.872564                       91.175048   \n",
       "2                             28.548550                       93.524138   \n",
       "\n",
       "   WAISRDigitSymbolScaledScore_slope  WMSRLogicalMemoryIIStoryARawScore_slope  \\\n",
       "0                          10.180106                                10.568806   \n",
       "1                           9.777167                                10.188612   \n",
       "2                          10.606666                                 9.945288   \n",
       "\n",
       "   WMSRLogicalMemoryIStoryARawScore_slope  MMSETotalScore_slope  \\\n",
       "0                               12.797640             29.865618   \n",
       "1                               13.104316             29.875530   \n",
       "2                               12.878828             29.887933   \n",
       "\n",
       "   LetterFluencyCFLTotalRawScore_slope  \\\n",
       "0                            32.892035   \n",
       "1                            34.207019   \n",
       "2                            36.009173   \n",
       "\n",
       "   ReyAuditoryVerbalLearningTestRAVLTTrialTrials15Raw_slope     ...       \\\n",
       "0                                          55.573569            ...        \n",
       "1                                          55.332243            ...        \n",
       "2                                          61.007569            ...        \n",
       "\n",
       "   TrailMakingTestTrailsAErrors_int  TrailMakingTestTrailsATime_int  \\\n",
       "0                          0.095045                      335.366738   \n",
       "1                          0.128785                      400.439583   \n",
       "2                          0.067831                      394.196219   \n",
       "\n",
       "   TrailMakingTestTrailsBErrors_int  TrailMakingTestTrailsBTime_int  \\\n",
       "0                          0.044952                     1142.465612   \n",
       "1                          0.083460                      979.708169   \n",
       "2                          0.085013                      989.343454   \n",
       "\n",
       "   age_at_sample   NFL  Ab_142    hTau    Ptau  Neurogranin  \n",
       "0          68.08  1881  785.33  357.47  71.218        893.0  \n",
       "1          71.52   729  660.46  176.41  32.398        125.0  \n",
       "2          57.50   760  602.03  346.18  53.077        362.0  \n",
       "\n",
       "[3 rows x 33 columns]"
      ]
     },
     "execution_count": 59,
     "metadata": {},
     "output_type": "execute_result"
    }
   ],
   "source": [
    "df1.head(3)"
   ]
  },
  {
   "cell_type": "code",
   "execution_count": null,
   "metadata": {
    "collapsed": true
   },
   "outputs": [],
   "source": [
    "idf = pd.read_csv('new/DBIDWRAPMatchforTuan.csv')\n",
    "idf = idf[[]'UID_slopes_tb', 'WrapNo', 'DBID']]"
   ]
  }
 ],
 "metadata": {
  "kernelspec": {
   "display_name": "Python 2",
   "language": "python",
   "name": "python2"
  },
  "language_info": {
   "codemirror_mode": {
    "name": "ipython",
    "version": 2
   },
   "file_extension": ".py",
   "mimetype": "text/x-python",
   "name": "python",
   "nbconvert_exporter": "python",
   "pygments_lexer": "ipython2",
   "version": "2.7.12"
  }
 },
 "nbformat": 4,
 "nbformat_minor": 1
}
