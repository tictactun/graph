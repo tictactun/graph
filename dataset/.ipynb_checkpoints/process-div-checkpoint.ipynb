{
 "cells": [
  {
   "cell_type": "code",
   "execution_count": 11,
   "metadata": {
    "collapsed": true
   },
   "outputs": [],
   "source": [
    "import pandas as pd\n",
    "import numpy as np\n",
    "from sklearn import linear_model, svm, tree\n",
    "from sklearn.neighbors import KNeighborsClassifier"
   ]
  },
  {
   "cell_type": "code",
   "execution_count": 12,
   "metadata": {
    "collapsed": true
   },
   "outputs": [],
   "source": [
    "df = pd.read_csv('data_full.csv')"
   ]
  },
  {
   "cell_type": "code",
   "execution_count": 13,
   "metadata": {
    "collapsed": false
   },
   "outputs": [],
   "source": [
    "nFeatures = 13;\n",
    "iCols = [2 * i for i in range(nFeatures)];\n",
    "iCols.append(nFeatures * 2);\n",
    "sCols = [2 * i + 1 for i in range(nFeatures)];\n",
    "yCols = list(range(nFeatures * 2 + 1, nFeatures * 2 + 6))"
   ]
  },
  {
   "cell_type": "code",
   "execution_count": 14,
   "metadata": {
    "collapsed": true
   },
   "outputs": [],
   "source": [
    "iNames = df.columns.values[iCols]\n",
    "sNames = df.columns.values[sCols]\n",
    "yNames = df.columns.values[yCols]"
   ]
  },
  {
   "cell_type": "markdown",
   "metadata": {},
   "source": [
    "### Combine slope and intercept"
   ]
  },
  {
   "cell_type": "code",
   "execution_count": 15,
   "metadata": {
    "collapsed": false
   },
   "outputs": [],
   "source": [
    "combined = np.zeros((len(df), 2 * nFeatures + 1))\n",
    "x = 5;\n",
    "for i in range(nFeatures):\n",
    "    iValues = df.ix[:, 2*i]\n",
    "    sValues = df.ix[:, 2*i + 1]\n",
    "    combined[:, i] = [x * sValues[k] + iValues[k] for k in range(len(df))]\n",
    "    combined[:, i + nFeatures] = [combined[k, i]**2 for k in range(len(df))]\n",
    "    \n",
    "combined[:, 2 * nFeatures] = df.ix[:, 2 * nFeatures]"
   ]
  },
  {
   "cell_type": "markdown",
   "metadata": {},
   "source": [
    "### normalize"
   ]
  },
  {
   "cell_type": "code",
   "execution_count": 16,
   "metadata": {
    "collapsed": true
   },
   "outputs": [],
   "source": [
    "def normalize(a, inv=False):\n",
    "#     return a\n",
    "    minValue = np.min(a)\n",
    "    rangeValue = np.max(a) - minValue\n",
    "    if inv:\n",
    "        return [(a[i] - minValue) * 1.0/rangeValue for i in range(len(a))]\n",
    "    else:\n",
    "        return [1 - (a[i] - minValue) * 1.0/rangeValue for i in range(len(a))]"
   ]
  },
  {
   "cell_type": "code",
   "execution_count": 17,
   "metadata": {
    "collapsed": false
   },
   "outputs": [],
   "source": [
    "combined[:, 0] = [combined[k, 0] * 1.0/60 for k in range(len(combined))]\n",
    "for i in range(1, nFeatures):\n",
    "    if i in [9, 10, 11, 12]:\n",
    "        normF = normalize(combined[:, i], False)\n",
    "        normFi = normalize(combined[:, i + nFeatures], False)\n",
    "    else:\n",
    "        normF = normalize(combined[:, i], True)\n",
    "        normFi = normalize(combined[:, i + nFeatures], True)\n",
    "    combined[:, i] = normF\n",
    "    combined[:, i + nFeatures] = normFi\n",
    "combined[:, 2 * nFeatures] = normalize(combined[:, 2 * nFeatures], True)"
   ]
  },
  {
   "cell_type": "code",
   "execution_count": 18,
   "metadata": {
    "collapsed": false
   },
   "outputs": [],
   "source": [
    "combineddf = pd.DataFrame(combined)\n",
    "combineddf.columns = np.append(sNames, iNames)\n",
    "df1 = pd.concat([combineddf, df[yCols]], axis=1)"
   ]
  },
  {
   "cell_type": "code",
   "execution_count": 19,
   "metadata": {
    "collapsed": false
   },
   "outputs": [],
   "source": [
    "y = df1.ix[:, nFeatures + 1].values\n",
    "# oList = outliers_z_score(y)\n",
    "# df1 = df1.drop(df1.index[oList]);\n",
    "df1.to_csv('data_combined3.csv', index=False)"
   ]
  },
  {
   "cell_type": "markdown",
   "metadata": {},
   "source": [
    "###  Feature engineering"
   ]
  },
  {
   "cell_type": "code",
   "execution_count": 73,
   "metadata": {
    "collapsed": true
   },
   "outputs": [],
   "source": [
    "# X0 = df.ix[:, iCols].values\n",
    "# # A = df.ix[:, 2 * nFeatures].values\n",
    "# S0 = df.ix[:, sCols].values\n",
    "# y0 = df.ix[:, nFeatures * 2 + 1].values\n",
    "# df1 = pd.concat([df[iCols], df[yCols]], axis=1)\n",
    "# df2 = pd.concat([df[sCols], df[yCols]], axis=1)\n",
    "# df1.to_csv('data_int.csv', index=False)\n",
    "# df2.to_csv('data_slope.csv', index=False)"
   ]
  },
  {
   "cell_type": "code",
   "execution_count": 85,
   "metadata": {
    "collapsed": false
   },
   "outputs": [],
   "source": [
    "X = np.zeros(X0.shape)\n",
    "for i in range(X0.shape[1]):\n",
    "    X[:, i] = get_scaled(X0[:, i])\n",
    "\n",
    "y = get_scaled(y0)"
   ]
  }
 ],
 "metadata": {
  "kernelspec": {
   "display_name": "Python 2",
   "language": "python",
   "name": "python2"
  },
  "language_info": {
   "codemirror_mode": {
    "name": "ipython",
    "version": 2
   },
   "file_extension": ".py",
   "mimetype": "text/x-python",
   "name": "python",
   "nbconvert_exporter": "python",
   "pygments_lexer": "ipython2",
   "version": "2.7.12"
  }
 },
 "nbformat": 4,
 "nbformat_minor": 1
}
